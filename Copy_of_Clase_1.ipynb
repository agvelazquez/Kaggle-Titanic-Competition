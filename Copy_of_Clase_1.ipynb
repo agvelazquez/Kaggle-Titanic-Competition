{
  "nbformat": 4,
  "nbformat_minor": 0,
  "metadata": {
    "colab": {
      "name": "Copy of Clase_1.ipynb",
      "version": "0.3.2",
      "provenance": [],
      "collapsed_sections": [],
      "include_colab_link": true
    },
    "kernelspec": {
      "name": "python3",
      "display_name": "Python 3"
    }
  },
  "cells": [
    {
      "cell_type": "markdown",
      "metadata": {
        "id": "view-in-github",
        "colab_type": "text"
      },
      "source": [
        "[View in Colaboratory](https://colab.research.google.com/github/agvelazquez/Kaggle-Titanic-Competition/blob/master/Copy_of_Clase_1.ipynb)"
      ]
    },
    {
      "metadata": {
        "id": "tH6S-crUIdTl",
        "colab_type": "code",
        "colab": {}
      },
      "cell_type": "code",
      "source": [
        "Que vamos a aprender hoy:\n",
        "    - Descripcion del data-set\n",
        "    - Histograma \n",
        "    - Distribucion normal y skew\n",
        "    - Correlacion de variables\n",
        "    - Datos categoricos\n",
        "    - Box plot\n",
        "    - Heat-map \n",
        "    - Scatter Plot\n",
        "    - Estandarizacion de datos\n",
        "    - Datos faltantes (missing data)\n",
        "    - Null values\n",
        "    - Outliers\n",
        "    - Extra: variables dummy "
      ],
      "execution_count": 0,
      "outputs": []
    },
    {
      "metadata": {
        "id": "L6vSRbZkIfWX",
        "colab_type": "text"
      },
      "cell_type": "markdown",
      "source": [
        "Data-set : House Prices: Advanced Regression Techniques\n",
        "https://www.kaggle.com/c/house-prices-advanced-regression-techniques"
      ]
    },
    {
      "metadata": {
        "id": "oqHh3KR7JUA9",
        "colab_type": "text"
      },
      "cell_type": "markdown",
      "source": [
        "Objetivo:\n",
        "    With 79 explanatory variables describing (almost) every aspect of residential homes in Ames, Iowa, this competition challenges you to predict the final price of each home."
      ]
    },
    {
      "metadata": {
        "id": "rKc6fKE1JXQR",
        "colab_type": "text"
      },
      "cell_type": "markdown",
      "source": [
        "Importar paquetes,\n",
        "Tener en cuenta que un EDA incluye el analisis de datos y graficarlos para contar la historia!"
      ]
    },
    {
      "metadata": {
        "id": "E3LVbuOgJYwc",
        "colab_type": "code",
        "colab": {}
      },
      "cell_type": "code",
      "source": [
        "#Datos\n",
        "import pandas as pd\n",
        "import numpy as np\n",
        "#Graficos \n",
        "import matplotlib.pyplot as plt\n",
        "import seaborn as sns\n",
        "#Preprocessing \n",
        "from sklearn.preprocessing import StandardScaler\n",
        "#Other \n",
        "from scipy.stats import norm\n",
        "from scipy import stats\n",
        "import warnings\n",
        "warnings.filterwarnings('ignore')\n",
        "%matplotlib inline"
      ],
      "execution_count": 0,
      "outputs": []
    },
    {
      "metadata": {
        "id": "4X6tqZ8aJZ8R",
        "colab_type": "text"
      },
      "cell_type": "markdown",
      "source": [
        "Cargar el data-set y hacer un analisis descriptivo "
      ]
    },
    {
      "metadata": {
        "id": "Jh-ZGb5CJbWM",
        "colab_type": "code",
        "colab": {}
      },
      "cell_type": "code",
      "source": [
        "#bring in the six packs\n",
        "df_train = pd.read_csv('../input/train.csv')"
      ],
      "execution_count": 0,
      "outputs": []
    },
    {
      "metadata": {
        "id": "tMsIy64qJdPe",
        "colab_type": "code",
        "colab": {}
      },
      "cell_type": "code",
      "source": [
        "#check the decoration\n",
        "df_train.columns\n",
        "df_train.describe()\n",
        "head = df_train.head(20)\n",
        "shape = data.shape\n",
        "print(shape)"
      ],
      "execution_count": 0,
      "outputs": []
    },
    {
      "metadata": {
        "id": "YqR7B9R4JeV6",
        "colab_type": "text"
      },
      "cell_type": "markdown",
      "source": [
        "Missing data"
      ]
    },
    {
      "metadata": {
        "id": "46IoN1EPJfnx",
        "colab_type": "code",
        "colab": {}
      },
      "cell_type": "code",
      "source": [
        "train_nas = train.isnull().sum()\n",
        "train_nas = train_nas[train_nas>0]\n",
        "train_nas.sort_values(ascending=False)"
      ],
      "execution_count": 0,
      "outputs": []
    },
    {
      "metadata": {
        "id": "Ssn7oGRZJgxn",
        "colab_type": "code",
        "colab": {}
      },
      "cell_type": "code",
      "source": [
        "#missing data\n",
        "total = df_train.isnull().sum().sort_values(ascending=False)\n",
        "percent = (df_train.isnull().sum()/df_train.isnull().count()).sort_values(ascending=False)\n",
        "missing_data = pd.concat([total, percent], axis=1, keys=['Total', 'Percent'])\n",
        "missing_data.head(20)"
      ],
      "execution_count": 0,
      "outputs": []
    },
    {
      "metadata": {
        "id": "3jNAZYrJJiBQ",
        "colab_type": "code",
        "colab": {}
      },
      "cell_type": "code",
      "source": [
        "#dealing with missing data\n",
        "df_train = df_train.drop((missing_data[missing_data['Total'] > 1]).index,1)\n",
        "df_train = df_train.drop(df_train.loc[df_train['Electrical'].isnull()].index)\n",
        "df_train.isnull().sum().max() #just checking that there's no missing data missing..."
      ],
      "execution_count": 0,
      "outputs": []
    },
    {
      "metadata": {
        "id": "YEn3bNDDJjHx",
        "colab_type": "text"
      },
      "cell_type": "markdown",
      "source": [
        "Outliers"
      ]
    },
    {
      "metadata": {
        "id": "ra9kXwM5JkiO",
        "colab_type": "code",
        "colab": {}
      },
      "cell_type": "code",
      "source": [
        "#dealing with missing data\n",
        "df_train = df_train.drop((missing_data[missing_data['Total'] > 1]).index,1)\n",
        "df_train = df_train.drop(df_train.loc[df_train['Electrical'].isnull()].index)\n",
        "df_train.isnull().sum().max() #just checking that there's no missing data missing..."
      ],
      "execution_count": 0,
      "outputs": []
    },
    {
      "metadata": {
        "id": "p7xwUnLVJl9o",
        "colab_type": "text"
      },
      "cell_type": "markdown",
      "source": [
        "Objetivo: Sale Price"
      ]
    },
    {
      "metadata": {
        "id": "Y8ZoeJGBJnPn",
        "colab_type": "code",
        "colab": {}
      },
      "cell_type": "code",
      "source": [
        "#descriptive statistics summary\n",
        "df_train['SalePrice'].describe()"
      ],
      "execution_count": 0,
      "outputs": []
    },
    {
      "metadata": {
        "id": "J3v_pLlxJoTU",
        "colab_type": "text"
      },
      "cell_type": "markdown",
      "source": [
        "Distribucion Normal\n",
        "\n",
        "\n",
        "skewness and kurtosis\n"
      ]
    },
    {
      "metadata": {
        "id": "0wBwI0GOJrH3",
        "colab_type": "code",
        "colab": {}
      },
      "cell_type": "code",
      "source": [
        "#histogram\n",
        "sns.distplot(df_train['SalePrice'])"
      ],
      "execution_count": 0,
      "outputs": []
    },
    {
      "metadata": {
        "id": "mxlAY1ItJudj",
        "colab_type": "code",
        "colab": {}
      },
      "cell_type": "code",
      "source": [
        "print(\"Skewness: %f\" % df_train['SalePrice'].skew())\n",
        "print(\"Kurtosis: %f\" % df_train['SalePrice'].kurt())"
      ],
      "execution_count": 0,
      "outputs": []
    },
    {
      "metadata": {
        "id": "3aWSaai-JvYU",
        "colab_type": "text"
      },
      "cell_type": "markdown",
      "source": [
        "Correlacion de variables"
      ]
    },
    {
      "metadata": {
        "id": "HbqtEE25Jw4R",
        "colab_type": "code",
        "colab": {}
      },
      "cell_type": "code",
      "source": [
        "#scatter plot grlivarea/saleprice\n",
        "var = 'GrLivArea'\n",
        "data = pd.concat([df_train['SalePrice'], df_train[var]], axis=1)\n",
        "data.plot.scatter(x=var, y='SalePrice', ylim=(0,800000));"
      ],
      "execution_count": 0,
      "outputs": []
    },
    {
      "metadata": {
        "id": "PXsoJkHGJx98",
        "colab_type": "code",
        "colab": {}
      },
      "cell_type": "code",
      "source": [
        "#scatter plot totalbsmtsf/saleprice\n",
        "var = 'TotalBsmtSF'\n",
        "data = pd.concat([df_train['SalePrice'], df_train[var]], axis=1)\n",
        "data.plot.scatter(x=var, y='SalePrice', ylim=(0,800000));"
      ],
      "execution_count": 0,
      "outputs": []
    },
    {
      "metadata": {
        "id": "XTUwNEMOJzJa",
        "colab_type": "text"
      },
      "cell_type": "markdown",
      "source": [
        "Datos categoricos y Box plot"
      ]
    },
    {
      "metadata": {
        "id": "E06hMzSIJ0s9",
        "colab_type": "code",
        "colab": {}
      },
      "cell_type": "code",
      "source": [
        "#box plot overallqual/saleprice\n",
        "var = 'OverallQual'\n",
        "data = pd.concat([df_train['SalePrice'], df_train[var]], axis=1)\n",
        "f, ax = plt.subplots(figsize=(8, 6))\n",
        "fig = sns.boxplot(x=var, y=\"SalePrice\", data=data)\n",
        "fig.axis(ymin=0, ymax=800000);"
      ],
      "execution_count": 0,
      "outputs": []
    },
    {
      "metadata": {
        "id": "fFYqxmG0J1yp",
        "colab_type": "code",
        "colab": {}
      },
      "cell_type": "code",
      "source": [
        "var = 'YearBuilt'\n",
        "data = pd.concat([df_train['SalePrice'], df_train[var]], axis=1)\n",
        "f, ax = plt.subplots(figsize=(16, 8))\n",
        "fig = sns.boxplot(x=var, y=\"SalePrice\", data=data)\n",
        "fig.axis(ymin=0, ymax=800000);\n",
        "plt.xticks(rotation=90);"
      ],
      "execution_count": 0,
      "outputs": []
    },
    {
      "metadata": {
        "id": "nmOOOffFJ3ov",
        "colab_type": "text"
      },
      "cell_type": "markdown",
      "source": [
        "Heat-map "
      ]
    },
    {
      "metadata": {
        "id": "gBHqG1NhJ4q1",
        "colab_type": "code",
        "colab": {}
      },
      "cell_type": "code",
      "source": [
        "print(\"Find most important features relative to target\")\n",
        "corr = train.corr()\n",
        "corr.sort_values([\"SalePrice\"], ascending = False, inplace = True)\n",
        "print(corr.SalePrice)\n",
        "#this you can see at the time of heatmap also."
      ],
      "execution_count": 0,
      "outputs": []
    },
    {
      "metadata": {
        "id": "W-X4SC_tJ5s1",
        "colab_type": "code",
        "colab": {}
      },
      "cell_type": "code",
      "source": [
        "#correlation matrix\n",
        "corrmat = df_train.corr()\n",
        "f, ax = plt.subplots(figsize=(12, 9))\n",
        "sns.heatmap(corrmat, vmax=.8, square=True);"
      ],
      "execution_count": 0,
      "outputs": []
    },
    {
      "metadata": {
        "id": "u4UJJXIaJ60Q",
        "colab_type": "code",
        "colab": {}
      },
      "cell_type": "code",
      "source": [
        "#saleprice correlation matrix\n",
        "k = 10 #number of variables for heatmap\n",
        "cols = corrmat.nlargest(k, 'SalePrice')['SalePrice'].index\n",
        "cm = np.corrcoef(df_train[cols].values.T)\n",
        "sns.set(font_scale=1.25)\n",
        "hm = sns.heatmap(cm, cbar=True, annot=True, square=True, fmt='.2f', annot_kws={'size': 10}, yticklabels=cols.values, xticklabels=cols.values)\n",
        "plt.show()"
      ],
      "execution_count": 0,
      "outputs": []
    },
    {
      "metadata": {
        "id": "kfMNqvJ-J760",
        "colab_type": "text"
      },
      "cell_type": "markdown",
      "source": [
        "Scatter Plot"
      ]
    },
    {
      "metadata": {
        "id": "8jg5dlPHJ9PM",
        "colab_type": "code",
        "colab": {}
      },
      "cell_type": "code",
      "source": [
        "#scatterplot\n",
        "sns.set()\n",
        "cols = ['SalePrice', 'OverallQual', 'GrLivArea', 'GarageCars', 'TotalBsmtSF', 'FullBath', 'YearBuilt']\n",
        "sns.pairplot(df_train[cols], size = 2.5)\n",
        "plt.show();"
      ],
      "execution_count": 0,
      "outputs": []
    },
    {
      "metadata": {
        "id": "Gcf1UqztJ-Uf",
        "colab_type": "text"
      },
      "cell_type": "markdown",
      "source": [
        "Outliers and data standardization"
      ]
    },
    {
      "metadata": {
        "id": "VHZSKdh4J_Yf",
        "colab_type": "code",
        "colab": {}
      },
      "cell_type": "code",
      "source": [
        "#standardizing data\n",
        "saleprice_scaled = StandardScaler().fit_transform(df_train['SalePrice'][:,np.newaxis]);\n",
        "low_range = saleprice_scaled[saleprice_scaled[:,0].argsort()][:10]\n",
        "high_range= saleprice_scaled[saleprice_scaled[:,0].argsort()][-10:]\n",
        "print('outer range (low) of the distribution:')\n",
        "print(low_range)\n",
        "print('\\nouter range (high) of the distribution:')\n",
        "print(high_range)"
      ],
      "execution_count": 0,
      "outputs": []
    },
    {
      "metadata": {
        "id": "LirCPIuRKA3c",
        "colab_type": "code",
        "colab": {}
      },
      "cell_type": "code",
      "source": [
        "#bivariate analysis saleprice/grlivarea\n",
        "var = 'GrLivArea'\n",
        "data = pd.concat([df_train['SalePrice'], df_train[var]], axis=1)\n",
        "data.plot.scatter(x=var, y='SalePrice', ylim=(0,800000));"
      ],
      "execution_count": 0,
      "outputs": []
    },
    {
      "metadata": {
        "id": "Rhvsl4WjKDGw",
        "colab_type": "code",
        "colab": {}
      },
      "cell_type": "code",
      "source": [
        "#deleting points\n",
        "df_train.sort_values(by = 'GrLivArea', ascending = False)[:2]\n",
        "df_train = df_train.drop(df_train[df_train['Id'] == 1299].index)\n",
        "df_train = df_train.drop(df_train[df_train['Id'] == 524].index)"
      ],
      "execution_count": 0,
      "outputs": []
    },
    {
      "metadata": {
        "id": "9ZV-hXlyKEhe",
        "colab_type": "code",
        "colab": {}
      },
      "cell_type": "code",
      "source": [
        "#bivariate analysis saleprice/grlivarea\n",
        "var = 'TotalBsmtSF'\n",
        "data = pd.concat([df_train['SalePrice'], df_train[var]], axis=1)\n",
        "data.plot.scatter(x=var, y='SalePrice', ylim=(0,800000));"
      ],
      "execution_count": 0,
      "outputs": []
    },
    {
      "metadata": {
        "id": "ofNJCFKeKGHv",
        "colab_type": "text"
      },
      "cell_type": "markdown",
      "source": [
        "Convert categorical data into dummy "
      ]
    },
    {
      "metadata": {
        "id": "IJJIxiYHKHaV",
        "colab_type": "code",
        "colab": {}
      },
      "cell_type": "code",
      "source": [
        "df_train = pd.get_dummies(df_train)"
      ],
      "execution_count": 0,
      "outputs": []
    },
    {
      "metadata": {
        "id": "yscT4UTPKIdD",
        "colab_type": "text"
      },
      "cell_type": "markdown",
      "source": [
        "Mas preguntas por resolver!\n",
        "\n",
        "Cuales son los barrios mas caros?\n",
        "En que temporadas del a;o se venden mas casas?\n",
        "Cual es la correlacion entre la calidad de la cocina y el precio de venta?\n",
        "Variacion de precio de venta por zona?"
      ]
    }
  ]
}